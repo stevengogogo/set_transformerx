{
 "cells": [
  {
   "cell_type": "code",
   "execution_count": 14,
   "id": "9b2e73d6",
   "metadata": {},
   "outputs": [
    {
     "name": "stderr",
     "output_type": "stream",
     "text": [
      "100%|██████████| 2000/2000 [00:05<00:00, 391.75it/s] \n"
     ]
    }
   ],
   "source": [
    "import jax.numpy as jnp \n",
    "import jax.random as jr\n",
    "import equinox as eqx\n",
    "import jax \n",
    "import optax\n",
    "import matplotlib.pyplot as plt\n",
    "from tqdm import tqdm\n",
    "import numpy as np\n",
    "\n",
    "\n",
    "def gen_data(batch_size, max_length=10, test=False):\n",
    "    \"\"\"\n",
    "    Generate set problem: find maximum value in a set\n",
    "    \"\"\"\n",
    "    length = np.random.randint(1, max_length + 1)\n",
    "    x = np.random.randint(1, 100, (batch_size, length))\n",
    "    y = np.max(x, axis=1)\n",
    "    x, y = np.expand_dims(x, axis=2), np.expand_dims(y, axis=1)\n",
    "    return x, y\n",
    "\n",
    "\n",
    "\"\"\"\n",
    "def gen_data(batch_size, length, key):\n",
    "    ks = jr.split(key, 2)\n",
    "    x = jr.randint(ks[1], (batch_size, length[0]), 1, 100)\n",
    "    y = jnp.max(x, axis=1)\n",
    "    x,y = jnp.expand_dims(x, axis=-1), jnp.expand_dims(y, axis=-1)\n",
    "    return x, y \n",
    "\"\"\"\n",
    "\n",
    "class DeepSet(eqx.Module):\n",
    "    enc: eqx.nn.Sequential\n",
    "    dec: eqx.nn.Sequential\n",
    "    pool: callable\n",
    "    def __init__(self, pool=\"max\", *, key):\n",
    "        ks = jr.split(key, 6)\n",
    "        self.enc = eqx.nn.Sequential([\n",
    "            jax.vmap(eqx.nn.Linear(1, 64, key=ks[0])),\n",
    "            eqx.nn.Lambda(jax.nn.relu),\n",
    "            jax.vmap(eqx.nn.Linear(64, 64, key=ks[1])),\n",
    "            eqx.nn.Lambda(jax.nn.relu),\n",
    "            jax.vmap(eqx.nn.Linear(64, 64, key=ks[2])),\n",
    "            eqx.nn.Lambda(jax.nn.relu),\n",
    "            jax.vmap(eqx.nn.Linear(64, 64, key=ks[3])),\n",
    "        ])\n",
    "        self.dec = eqx.nn.Sequential([\n",
    "            eqx.nn.Linear(64, 64, key=ks[4]),\n",
    "            eqx.nn.Lambda(jax.nn.relu),\n",
    "            eqx.nn.Linear(64, 1, key=ks[5]),\n",
    "        ])\n",
    "        \n",
    "        if pool == \"max\":\n",
    "            self.pool = lambda x: jnp.max(x, axis=0)\n",
    "        elif pool == \"mean\":\n",
    "            self.pool = lambda x: jnp.mean(x, axis=0)\n",
    "        elif pool == \"sum\":\n",
    "            self.pool = lambda x: jnp.sum(x, axis=0)\n",
    "        else:\n",
    "            raise ValueError(f\"Unknown pooling method: {pool}\")\n",
    "        \n",
    "    @eqx.filter_jit\n",
    "    def __call__(self, x):\n",
    "        x = self.enc(x)\n",
    "        x = self.pool(x)\n",
    "        x = self.dec(x)\n",
    "        return x\n",
    "\n",
    "@eqx.filter_jit\n",
    "def loss_fn(model, x, y): \n",
    "    return jnp.mean((jax.vmap(model)(x).ravel() - y.ravel()) ** 2)\n",
    "\n",
    "#_gen_data = lambda length, key: gen_data(batch_size=2**10, length=length, key=key)\n",
    "#gen_datas = [jax.jit(lambda key: _gen_data(i, key) ) for i in range(2,10)]\n",
    "\n",
    "def train(model, key, n_step=2000):\n",
    "    optim = optax.adam(1e-4)\n",
    "    opt_state = optim.init(eqx.filter(model, eqx.is_array))\n",
    "\n",
    "\n",
    "    @eqx.filter_jit\n",
    "    def make_step(model, opt_state, x, y):\n",
    "        loss, grads = eqx.filter_value_and_grad(loss_fn)(model, x, y)\n",
    "        updates, opt_state = optim.update(grads, opt_state)\n",
    "        model = eqx.apply_updates(model, updates)\n",
    "        return model, opt_state, loss\n",
    "    losses = []\n",
    "    for _ in tqdm(range(n_step)):\n",
    "        key, subkey = jr.split(key)\n",
    "        x, y = gen_data(batch_size=2 ** 10, max_length=10)\n",
    "        model, opt_state, loss = make_step(model, opt_state, x, y)\n",
    "        losses.append(loss)\n",
    "    return model, jnp.array(losses)\n",
    "\n",
    "\n",
    "key = jr.PRNGKey(0)\n",
    "ks = jr.split(key, 2)\n",
    "model = DeepSet(pool=\"max\", key=ks[0])\n",
    "model, losses = train(model, key)\n",
    "\n"
   ]
  },
  {
   "cell_type": "code",
   "execution_count": 13,
   "id": "fe4a657e",
   "metadata": {},
   "outputs": [
    {
     "name": "stdout",
     "output_type": "stream",
     "text": [
      "3.87 s ± 24.7 ms per loop (mean ± std. dev. of 7 runs, 1 loop each)\n"
     ]
    }
   ],
   "source": [
    "%timeit train(model, key, n_step=500)"
   ]
  },
  {
   "cell_type": "code",
   "execution_count": 25,
   "id": "2ac1cf8e",
   "metadata": {},
   "outputs": [
    {
     "data": {
      "image/png": "[encoded data removed]",
      "text/plain": [
       "<Figure size 640x480 with 1 Axes>"
      ]
     },
     "metadata": {},
     "output_type": "display_data"
    }
   ],
   "source": [
    "plt.plot(losses)\n",
    "plt.yscale(\"log\")"
   ]
  },
  {
   "cell_type": "code",
   "execution_count": 10,
   "id": "d5d6f896",
   "metadata": {},
   "outputs": [
    {
     "ename": "TypeError",
     "evalue": "'int' object is not subscriptable",
     "output_type": "error",
     "traceback": [
      "\u001b[0;31m---------------------------------------------------------------------------\u001b[0m",
      "\u001b[0;31mTypeError\u001b[0m                                 Traceback (most recent call last)",
      "Cell \u001b[0;32mIn[10], line 1\u001b[0m\n\u001b[0;32m----> 1\u001b[0m \u001b[43mgen_datas\u001b[49m\u001b[43m[\u001b[49m\u001b[38;5;241;43m0\u001b[39;49m\u001b[43m]\u001b[49m\u001b[43m(\u001b[49m\u001b[43mjr\u001b[49m\u001b[38;5;241;43m.\u001b[39;49m\u001b[43mPRNGKey\u001b[49m\u001b[43m(\u001b[49m\u001b[38;5;241;43m0\u001b[39;49m\u001b[43m)\u001b[49m\u001b[43m)\u001b[49m\n",
      "    \u001b[0;31m[... skipping hidden 14 frame]\u001b[0m\n",
      "Cell \u001b[0;32mIn[8], line 61\u001b[0m, in \u001b[0;36m<lambda>\u001b[0;34m(key)\u001b[0m\n\u001b[1;32m     58\u001b[0m     \u001b[38;5;28;01mreturn\u001b[39;00m jnp\u001b[38;5;241m.\u001b[39mmean((jax\u001b[38;5;241m.\u001b[39mvmap(model)(x)\u001b[38;5;241m.\u001b[39mravel() \u001b[38;5;241m-\u001b[39m y\u001b[38;5;241m.\u001b[39mravel()) \u001b[38;5;241m*\u001b[39m\u001b[38;5;241m*\u001b[39m \u001b[38;5;241m2\u001b[39m)\n\u001b[1;32m     60\u001b[0m _gen_data \u001b[38;5;241m=\u001b[39m \u001b[38;5;28;01mlambda\u001b[39;00m length, key: gen_data(batch_size\u001b[38;5;241m=\u001b[39m\u001b[38;5;241m2\u001b[39m\u001b[38;5;241m*\u001b[39m\u001b[38;5;241m*\u001b[39m\u001b[38;5;241m10\u001b[39m, length\u001b[38;5;241m=\u001b[39mlength, key\u001b[38;5;241m=\u001b[39mkey)\n\u001b[0;32m---> 61\u001b[0m gen_datas \u001b[38;5;241m=\u001b[39m [jax\u001b[38;5;241m.\u001b[39mjit(\u001b[38;5;28;01mlambda\u001b[39;00m key: \u001b[43m_gen_data\u001b[49m\u001b[43m(\u001b[49m\u001b[43mi\u001b[49m\u001b[43m,\u001b[49m\u001b[43m \u001b[49m\u001b[43mkey\u001b[49m\u001b[43m)\u001b[49m ) \u001b[38;5;28;01mfor\u001b[39;00m i \u001b[38;5;129;01min\u001b[39;00m \u001b[38;5;28mrange\u001b[39m(\u001b[38;5;241m2\u001b[39m,\u001b[38;5;241m10\u001b[39m)]\n\u001b[1;32m     63\u001b[0m \u001b[38;5;28;01mdef\u001b[39;00m\u001b[38;5;250m \u001b[39m\u001b[38;5;21mtrain\u001b[39m(model, key, n_step\u001b[38;5;241m=\u001b[39m\u001b[38;5;241m2000\u001b[39m):\n\u001b[1;32m     64\u001b[0m     optim \u001b[38;5;241m=\u001b[39m optax\u001b[38;5;241m.\u001b[39madam(\u001b[38;5;241m1e-4\u001b[39m)\n",
      "Cell \u001b[0;32mIn[8], line 60\u001b[0m, in \u001b[0;36m<lambda>\u001b[0;34m(length, key)\u001b[0m\n\u001b[1;32m     56\u001b[0m \u001b[38;5;129m@eqx\u001b[39m\u001b[38;5;241m.\u001b[39mfilter_jit\n\u001b[1;32m     57\u001b[0m \u001b[38;5;28;01mdef\u001b[39;00m\u001b[38;5;250m \u001b[39m\u001b[38;5;21mloss_fn\u001b[39m(model, x, y): \n\u001b[1;32m     58\u001b[0m     \u001b[38;5;28;01mreturn\u001b[39;00m jnp\u001b[38;5;241m.\u001b[39mmean((jax\u001b[38;5;241m.\u001b[39mvmap(model)(x)\u001b[38;5;241m.\u001b[39mravel() \u001b[38;5;241m-\u001b[39m y\u001b[38;5;241m.\u001b[39mravel()) \u001b[38;5;241m*\u001b[39m\u001b[38;5;241m*\u001b[39m \u001b[38;5;241m2\u001b[39m)\n\u001b[0;32m---> 60\u001b[0m _gen_data \u001b[38;5;241m=\u001b[39m \u001b[38;5;28;01mlambda\u001b[39;00m length, key: \u001b[43mgen_data\u001b[49m\u001b[43m(\u001b[49m\u001b[43mbatch_size\u001b[49m\u001b[38;5;241;43m=\u001b[39;49m\u001b[38;5;241;43m2\u001b[39;49m\u001b[38;5;241;43m*\u001b[39;49m\u001b[38;5;241;43m*\u001b[39;49m\u001b[38;5;241;43m10\u001b[39;49m\u001b[43m,\u001b[49m\u001b[43m \u001b[49m\u001b[43mlength\u001b[49m\u001b[38;5;241;43m=\u001b[39;49m\u001b[43mlength\u001b[49m\u001b[43m,\u001b[49m\u001b[43m \u001b[49m\u001b[43mkey\u001b[49m\u001b[38;5;241;43m=\u001b[39;49m\u001b[43mkey\u001b[49m\u001b[43m)\u001b[49m\n\u001b[1;32m     61\u001b[0m gen_datas \u001b[38;5;241m=\u001b[39m [jax\u001b[38;5;241m.\u001b[39mjit(\u001b[38;5;28;01mlambda\u001b[39;00m key: _gen_data(i, key) ) \u001b[38;5;28;01mfor\u001b[39;00m i \u001b[38;5;129;01min\u001b[39;00m \u001b[38;5;28mrange\u001b[39m(\u001b[38;5;241m2\u001b[39m,\u001b[38;5;241m10\u001b[39m)]\n\u001b[1;32m     63\u001b[0m \u001b[38;5;28;01mdef\u001b[39;00m\u001b[38;5;250m \u001b[39m\u001b[38;5;21mtrain\u001b[39m(model, key, n_step\u001b[38;5;241m=\u001b[39m\u001b[38;5;241m2000\u001b[39m):\n",
      "Cell \u001b[0;32mIn[8], line 14\u001b[0m, in \u001b[0;36mgen_data\u001b[0;34m(batch_size, length, key)\u001b[0m\n\u001b[1;32m     10\u001b[0m \u001b[38;5;250m\u001b[39m\u001b[38;5;124;03m\"\"\"\u001b[39;00m\n\u001b[1;32m     11\u001b[0m \u001b[38;5;124;03mGenerate set problem: find maximum value in a set\u001b[39;00m\n\u001b[1;32m     12\u001b[0m \u001b[38;5;124;03m\"\"\"\u001b[39;00m\n\u001b[1;32m     13\u001b[0m ks \u001b[38;5;241m=\u001b[39m jr\u001b[38;5;241m.\u001b[39msplit(key, \u001b[38;5;241m2\u001b[39m)\n\u001b[0;32m---> 14\u001b[0m x \u001b[38;5;241m=\u001b[39m jr\u001b[38;5;241m.\u001b[39mrandint(ks[\u001b[38;5;241m1\u001b[39m], (batch_size, \u001b[43mlength\u001b[49m\u001b[43m[\u001b[49m\u001b[38;5;241;43m0\u001b[39;49m\u001b[43m]\u001b[49m), \u001b[38;5;241m1\u001b[39m, \u001b[38;5;241m100\u001b[39m)\n\u001b[1;32m     15\u001b[0m y \u001b[38;5;241m=\u001b[39m jnp\u001b[38;5;241m.\u001b[39mmax(x, axis\u001b[38;5;241m=\u001b[39m\u001b[38;5;241m1\u001b[39m)\n\u001b[1;32m     16\u001b[0m x,y \u001b[38;5;241m=\u001b[39m jnp\u001b[38;5;241m.\u001b[39mexpand_dims(x, axis\u001b[38;5;241m=\u001b[39m\u001b[38;5;241m-\u001b[39m\u001b[38;5;241m1\u001b[39m), jnp\u001b[38;5;241m.\u001b[39mexpand_dims(y, axis\u001b[38;5;241m=\u001b[39m\u001b[38;5;241m-\u001b[39m\u001b[38;5;241m1\u001b[39m)\n",
      "\u001b[0;31mTypeError\u001b[0m: 'int' object is not subscriptable"
     ]
    }
   ],
   "source": [
    "gen_datas[0](jr.PRNGKey(0))"
   ]
  },
  {
   "cell_type": "code",
   "execution_count": 17,
   "id": "b74f21f5",
   "metadata": {},
   "outputs": [
    {
     "data": {
      "text/plain": [
       "Array([62], dtype=int32)"
      ]
     },
     "execution_count": 17,
     "metadata": {},
     "output_type": "execute_result"
    }
   ],
   "source": [
    "y[0]"
   ]
  },
  {
   "cell_type": "code",
   "execution_count": null,
   "id": "635d721a",
   "metadata": {},
   "outputs": [],
   "source": []
  }
 ],
 "metadata": {
  "kernelspec": {
   "display_name": "set-transformerx-2b7etmAW-py3.10",
   "language": "python",
   "name": "python3"
  },
  "language_info": {
   "codemirror_mode": {
    "name": "ipython",
    "version": 3
   },
   "file_extension": ".py",
   "mimetype": "text/x-python",
   "name": "python",
   "nbconvert_exporter": "python",
   "pygments_lexer": "ipython3",
   "version": "3.10.12"
  }
 },
 "nbformat": 4,
 "nbformat_minor": 5
}
